{
 "cells": [
  {
   "cell_type": "code",
   "execution_count": 1,
   "metadata": {},
   "outputs": [],
   "source": [
    "from tensorflow.keras.models import Sequential\n",
    "from tensorflow.keras.layers import Dense,Convolution2D,MaxPooling2D,Flatten"
   ]
  },
  {
   "cell_type": "code",
   "execution_count": 2,
   "metadata": {},
   "outputs": [],
   "source": [
    "from tensorflow.keras.preprocessing.image import ImageDataGenerator"
   ]
  },
  {
   "cell_type": "code",
   "execution_count": 3,
   "metadata": {},
   "outputs": [],
   "source": [
    "train_datagen=ImageDataGenerator(rescale=1./255,shear_range=0.2,zoom_range=0.2,horizontal_flip=True)\n",
    "test_datagen=ImageDataGenerator(rescale=1./255)"
   ]
  },
  {
   "cell_type": "code",
   "execution_count": 4,
   "metadata": {},
   "outputs": [
    {
     "name": "stdout",
     "output_type": "stream",
     "text": [
      "Found 500 images belonging to 5 classes.\n",
      "Found 500 images belonging to 5 classes.\n"
     ]
    }
   ],
   "source": [
    "x_train=train_datagen.flow_from_directory(r\"D:\\Manipal Externship codefile\\fruit data\\train\",target_size=(64,64),batch_size=32,class_mode=\"categorical\")\n",
    "x_test=test_datagen.flow_from_directory(r\"D:\\Manipal Externship codefile\\fruit data\\test\",target_size=(64,64),batch_size=32,class_mode=\"categorical\")"
   ]
  },
  {
   "cell_type": "code",
   "execution_count": 5,
   "metadata": {},
   "outputs": [],
   "source": [
    "cnn=Sequential()"
   ]
  },
  {
   "cell_type": "code",
   "execution_count": 6,
   "metadata": {},
   "outputs": [
    {
     "name": "stdout",
     "output_type": "stream",
     "text": [
      "WARNING:tensorflow:From C:\\Users\\OWNER\\Anaconda3\\lib\\site-packages\\tensorflow\\python\\ops\\init_ops.py:1251: calling VarianceScaling.__init__ (from tensorflow.python.ops.init_ops) with dtype is deprecated and will be removed in a future version.\n",
      "Instructions for updating:\n",
      "Call initializer instance with the dtype argument instead of passing it to the constructor\n"
     ]
    }
   ],
   "source": [
    "cnn.add(Convolution2D(32,(3,3),input_shape=(64,64,3)))"
   ]
  },
  {
   "cell_type": "code",
   "execution_count": 7,
   "metadata": {},
   "outputs": [],
   "source": [
    "cnn.add(MaxPooling2D((2,2)))"
   ]
  },
  {
   "cell_type": "code",
   "execution_count": 8,
   "metadata": {},
   "outputs": [],
   "source": [
    "cnn.add(Flatten())"
   ]
  },
  {
   "cell_type": "code",
   "execution_count": 9,
   "metadata": {},
   "outputs": [
    {
     "name": "stdout",
     "output_type": "stream",
     "text": [
      "WARNING:tensorflow:From C:\\Users\\OWNER\\Anaconda3\\lib\\site-packages\\tensorflow\\python\\keras\\initializers.py:119: calling RandomUniform.__init__ (from tensorflow.python.ops.init_ops) with dtype is deprecated and will be removed in a future version.\n",
      "Instructions for updating:\n",
      "Call initializer instance with the dtype argument instead of passing it to the constructor\n"
     ]
    }
   ],
   "source": [
    "cnn.add(Dense(units=100,kernel_initializer=\"random_uniform\",activation=\"relu\"))"
   ]
  },
  {
   "cell_type": "code",
   "execution_count": 10,
   "metadata": {},
   "outputs": [],
   "source": [
    "cnn.add(Dense(units=5,kernel_initializer=\"random_uniform\",activation=\"softmax\"))"
   ]
  },
  {
   "cell_type": "code",
   "execution_count": 11,
   "metadata": {},
   "outputs": [],
   "source": [
    "cnn.compile(optimizer=\"rmsprop\",loss=\"categorical_crossentropy\",metrics=[\"accuracy\"])"
   ]
  },
  {
   "cell_type": "code",
   "execution_count": 12,
   "metadata": {
    "scrolled": true
   },
   "outputs": [
    {
     "name": "stdout",
     "output_type": "stream",
     "text": [
      "Epoch 1/20\n",
      "49/50 [============================>.] - ETA: 0s - loss: 1.3839 - acc: 0.5111"
     ]
    },
    {
     "name": "stderr",
     "output_type": "stream",
     "text": [
      "C:\\Users\\OWNER\\Anaconda3\\lib\\site-packages\\PIL\\Image.py:993: UserWarning: Palette images with Transparency expressed in bytes should be converted to RGBA images\n",
      "  \"Palette images with Transparency expressed in bytes should be \"\n"
     ]
    },
    {
     "name": "stdout",
     "output_type": "stream",
     "text": [
      "50/50 [==============================] - 28s 562ms/step - loss: 1.3705 - acc: 0.5141 - val_loss: 1.0610 - val_acc: 0.5499\n",
      "Epoch 2/20\n",
      "50/50 [==============================] - 23s 454ms/step - loss: 0.7885 - acc: 0.7020 - val_loss: 0.7284 - val_acc: 0.7219\n",
      "Epoch 3/20\n",
      "50/50 [==============================] - 22s 448ms/step - loss: 0.6023 - acc: 0.7852 - val_loss: 0.6526 - val_acc: 0.7641\n",
      "Epoch 4/20\n",
      "50/50 [==============================] - 23s 456ms/step - loss: 0.5084 - acc: 0.8157 - val_loss: 0.7571 - val_acc: 0.7410\n",
      "Epoch 5/20\n",
      "50/50 [==============================] - 24s 482ms/step - loss: 0.3866 - acc: 0.8561 - val_loss: 0.8192 - val_acc: 0.7398\n",
      "Epoch 6/20\n",
      "50/50 [==============================] - 25s 506ms/step - loss: 0.3161 - acc: 0.8747 - val_loss: 0.7096 - val_acc: 0.7864\n",
      "Epoch 7/20\n",
      "50/50 [==============================] - 25s 507ms/step - loss: 0.2445 - acc: 0.9194 - val_loss: 0.8697 - val_acc: 0.7820\n",
      "Epoch 8/20\n",
      "50/50 [==============================] - 27s 531ms/step - loss: 0.1878 - acc: 0.9386 - val_loss: 0.7395 - val_acc: 0.7692\n",
      "Epoch 9/20\n",
      "50/50 [==============================] - 24s 471ms/step - loss: 0.1760 - acc: 0.9380 - val_loss: 0.7477 - val_acc: 0.8012\n",
      "Epoch 10/20\n",
      "50/50 [==============================] - 24s 473ms/step - loss: 0.1289 - acc: 0.9584 - val_loss: 0.7368 - val_acc: 0.8012\n",
      "Epoch 11/20\n",
      "50/50 [==============================] - 23s 464ms/step - loss: 0.1035 - acc: 0.9636 - val_loss: 0.8734 - val_acc: 0.7928\n",
      "Epoch 12/20\n",
      "50/50 [==============================] - 23s 459ms/step - loss: 0.0938 - acc: 0.9687 - val_loss: 0.8870 - val_acc: 0.7948\n",
      "Epoch 13/20\n",
      "50/50 [==============================] - 24s 474ms/step - loss: 0.0770 - acc: 0.9749 - val_loss: 0.9016 - val_acc: 0.7954\n",
      "Epoch 14/20\n",
      "50/50 [==============================] - 25s 500ms/step - loss: 0.0566 - acc: 0.9808 - val_loss: 0.8856 - val_acc: 0.8171\n",
      "Epoch 15/20\n",
      "50/50 [==============================] - 25s 509ms/step - loss: 0.0853 - acc: 0.9740 - val_loss: 0.9373 - val_acc: 0.7999\n",
      "Epoch 16/20\n",
      "50/50 [==============================] - 26s 527ms/step - loss: 0.0644 - acc: 0.9768 - val_loss: 0.9440 - val_acc: 0.7986\n",
      "Epoch 17/20\n",
      "50/50 [==============================] - 23s 468ms/step - loss: 0.0619 - acc: 0.9853 - val_loss: 1.0143 - val_acc: 0.8248\n",
      "Epoch 18/20\n",
      "50/50 [==============================] - 23s 461ms/step - loss: 0.0479 - acc: 0.9898 - val_loss: 1.0380 - val_acc: 0.8159\n",
      "Epoch 19/20\n",
      "50/50 [==============================] - 23s 457ms/step - loss: 0.0282 - acc: 0.9910 - val_loss: 1.0651 - val_acc: 0.8095\n",
      "Epoch 20/20\n",
      "50/50 [==============================] - 23s 470ms/step - loss: 0.0492 - acc: 0.9852 - val_loss: 1.1145 - val_acc: 0.8063\n"
     ]
    },
    {
     "data": {
      "text/plain": [
       "<tensorflow.python.keras.callbacks.History at 0x23fb82369b0>"
      ]
     },
     "execution_count": 12,
     "metadata": {},
     "output_type": "execute_result"
    }
   ],
   "source": [
    "cnn.fit_generator(x_train,steps_per_epoch=500/10,epochs=20,validation_data=x_test,validation_steps=500/10)"
   ]
  },
  {
   "cell_type": "code",
   "execution_count": 13,
   "metadata": {},
   "outputs": [],
   "source": [
    "cnn.save(\"fruit.h5\")"
   ]
  },
  {
   "cell_type": "code",
   "execution_count": 14,
   "metadata": {},
   "outputs": [],
   "source": [
    "from tensorflow.keras.models import load_model\n",
    "from tensorflow.keras.preprocessing import image"
   ]
  },
  {
   "cell_type": "code",
   "execution_count": 15,
   "metadata": {},
   "outputs": [
    {
     "name": "stdout",
     "output_type": "stream",
     "text": [
      "WARNING:tensorflow:From C:\\Users\\OWNER\\Anaconda3\\lib\\site-packages\\tensorflow\\python\\ops\\init_ops.py:97: calling GlorotUniform.__init__ (from tensorflow.python.ops.init_ops) with dtype is deprecated and will be removed in a future version.\n",
      "Instructions for updating:\n",
      "Call initializer instance with the dtype argument instead of passing it to the constructor\n",
      "WARNING:tensorflow:From C:\\Users\\OWNER\\Anaconda3\\lib\\site-packages\\tensorflow\\python\\ops\\init_ops.py:97: calling Zeros.__init__ (from tensorflow.python.ops.init_ops) with dtype is deprecated and will be removed in a future version.\n",
      "Instructions for updating:\n",
      "Call initializer instance with the dtype argument instead of passing it to the constructor\n"
     ]
    }
   ],
   "source": [
    "mod=load_model(\"fruit.h5\")"
   ]
  },
  {
   "cell_type": "code",
   "execution_count": 16,
   "metadata": {},
   "outputs": [],
   "source": [
    "img1=image.load_img(\"apple.jpeg\",target_size=(64,64))\n",
    "img2=image.load_img(\"orange.jpeg\",target_size=(64,64))\n",
    "img3=image.load_img(\"lemon.jpg\",target_size=(64,64))\n",
    "img4=image.load_img(\"pear.jpg\",target_size=(64,64))\n",
    "img5=image.load_img(\"banana.jpg\",target_size=(64,64))"
   ]
  },
  {
   "cell_type": "code",
   "execution_count": 17,
   "metadata": {},
   "outputs": [],
   "source": [
    "a=image.img_to_array(img1)\n",
    "b=image.img_to_array(img2)\n",
    "c=image.img_to_array(img3)\n",
    "d=image.img_to_array(img4)\n",
    "e=image.img_to_array(img5)"
   ]
  },
  {
   "cell_type": "code",
   "execution_count": 18,
   "metadata": {},
   "outputs": [],
   "source": [
    "import numpy as np\n",
    "a=np.expand_dims(a,axis=0)\n",
    "b=np.expand_dims(b,axis=0)\n",
    "c=np.expand_dims(c,axis=0)\n",
    "d=np.expand_dims(d,axis=0)\n",
    "e=np.expand_dims(e,axis=0)"
   ]
  },
  {
   "cell_type": "code",
   "execution_count": 19,
   "metadata": {},
   "outputs": [],
   "source": [
    "app=mod.predict(a)\n",
    "org=mod.predict(b)\n",
    "lem=mod.predict(c)\n",
    "pear=mod.predict(d)\n",
    "ban=mod.predict(e)"
   ]
  },
  {
   "cell_type": "code",
   "execution_count": 20,
   "metadata": {},
   "outputs": [],
   "source": [
    "fruits=[\"apple\",\"banana\",\"lemon\",\"orange\",\"pear\"]"
   ]
  },
  {
   "cell_type": "code",
   "execution_count": 21,
   "metadata": {},
   "outputs": [
    {
     "data": {
      "text/plain": [
       "'banana'"
      ]
     },
     "execution_count": 21,
     "metadata": {},
     "output_type": "execute_result"
    }
   ],
   "source": [
    "apple=fruits[np.argmax(app[0])]\n",
    "apple"
   ]
  },
  {
   "cell_type": "code",
   "execution_count": 22,
   "metadata": {},
   "outputs": [
    {
     "data": {
      "text/plain": [
       "'banana'"
      ]
     },
     "execution_count": 22,
     "metadata": {},
     "output_type": "execute_result"
    }
   ],
   "source": [
    "banana=fruits[np.argmax(ban[0])]\n",
    "banana"
   ]
  },
  {
   "cell_type": "code",
   "execution_count": 23,
   "metadata": {},
   "outputs": [
    {
     "data": {
      "text/plain": [
       "'orange'"
      ]
     },
     "execution_count": 23,
     "metadata": {},
     "output_type": "execute_result"
    }
   ],
   "source": [
    "orange=fruits[np.argmax(org[0])]\n",
    "orange"
   ]
  },
  {
   "cell_type": "code",
   "execution_count": 24,
   "metadata": {},
   "outputs": [
    {
     "data": {
      "text/plain": [
       "'lemon'"
      ]
     },
     "execution_count": 24,
     "metadata": {},
     "output_type": "execute_result"
    }
   ],
   "source": [
    "lemon=fruits[np.argmax(lem[0])]\n",
    "lemon"
   ]
  },
  {
   "cell_type": "code",
   "execution_count": 25,
   "metadata": {},
   "outputs": [
    {
     "data": {
      "text/plain": [
       "'pear'"
      ]
     },
     "execution_count": 25,
     "metadata": {},
     "output_type": "execute_result"
    }
   ],
   "source": [
    "pear=fruits[np.argmax(pear[0])]\n",
    "pear"
   ]
  },
  {
   "cell_type": "code",
   "execution_count": null,
   "metadata": {},
   "outputs": [],
   "source": []
  }
 ],
 "metadata": {
  "kernelspec": {
   "display_name": "Python 3",
   "language": "python",
   "name": "python3"
  },
  "language_info": {
   "codemirror_mode": {
    "name": "ipython",
    "version": 3
   },
   "file_extension": ".py",
   "mimetype": "text/x-python",
   "name": "python",
   "nbconvert_exporter": "python",
   "pygments_lexer": "ipython3",
   "version": "3.7.3"
  }
 },
 "nbformat": 4,
 "nbformat_minor": 2
}
